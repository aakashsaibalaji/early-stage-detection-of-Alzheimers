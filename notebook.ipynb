{
 "cells": [
  {
   "cell_type": "code",
   "execution_count": 8,
   "metadata": {},
   "outputs": [],
   "source": [
    "import warnings\n",
    "warnings.filterwarnings('ignore')"
   ]
  },
  {
   "cell_type": "code",
   "execution_count": 2,
   "metadata": {
    "_cell_guid": "b1076dfc-b9ad-4769-8c92-a6c4dae69d19",
    "_uuid": "8f2839f25d086af736a60e9eeb907d3b93b6e0e5",
    "execution": {
     "iopub.execute_input": "2022-10-25T13:40:34.297931Z",
     "iopub.status.busy": "2022-10-25T13:40:34.297384Z",
     "iopub.status.idle": "2022-10-25T13:40:40.664889Z",
     "shell.execute_reply": "2022-10-25T13:40:40.663540Z",
     "shell.execute_reply.started": "2022-10-25T13:40:34.297814Z"
    }
   },
   "outputs": [],
   "source": [
    "import numpy as np # linear algebra\n",
    "import pandas as pd # data processing, CSV file I/O (e.g. pd.read_csv)\n",
    "import matplotlib.pyplot as plt\n",
    "import seaborn as sns"
   ]
  },
  {
   "cell_type": "code",
   "execution_count": 3,
   "metadata": {},
   "outputs": [],
   "source": [
    "data = pd.read_csv('clinical-data-for Alzheimers.csv')"
   ]
  },
  {
   "cell_type": "code",
   "execution_count": 4,
   "metadata": {},
   "outputs": [
    {
     "data": {
      "text/html": [
       "<div>\n",
       "<style scoped>\n",
       "    .dataframe tbody tr th:only-of-type {\n",
       "        vertical-align: middle;\n",
       "    }\n",
       "\n",
       "    .dataframe tbody tr th {\n",
       "        vertical-align: top;\n",
       "    }\n",
       "\n",
       "    .dataframe thead th {\n",
       "        text-align: right;\n",
       "    }\n",
       "</style>\n",
       "<table border=\"1\" class=\"dataframe\">\n",
       "  <thead>\n",
       "    <tr style=\"text-align: right;\">\n",
       "      <th></th>\n",
       "      <th>Subject</th>\n",
       "      <th>Gender</th>\n",
       "      <th>mmse</th>\n",
       "      <th>ageAtEntry</th>\n",
       "      <th>X</th>\n",
       "      <th>Y</th>\n",
       "      <th>P</th>\n",
       "      <th>Az</th>\n",
       "      <th>Al</th>\n",
       "      <th>target</th>\n",
       "    </tr>\n",
       "  </thead>\n",
       "  <tbody>\n",
       "    <tr>\n",
       "      <th>0</th>\n",
       "      <td>OAS30124</td>\n",
       "      <td>female</td>\n",
       "      <td>16</td>\n",
       "      <td>79.14579</td>\n",
       "      <td>1.0</td>\n",
       "      <td>1.0</td>\n",
       "      <td>1.0</td>\n",
       "      <td>1.0</td>\n",
       "      <td>1.0</td>\n",
       "      <td>AD Dementia</td>\n",
       "    </tr>\n",
       "    <tr>\n",
       "      <th>1</th>\n",
       "      <td>OAS30124</td>\n",
       "      <td>female</td>\n",
       "      <td>21</td>\n",
       "      <td>79.14579</td>\n",
       "      <td>0.5</td>\n",
       "      <td>0.5</td>\n",
       "      <td>0.5</td>\n",
       "      <td>0.5</td>\n",
       "      <td>0.5</td>\n",
       "      <td>AD Dementia</td>\n",
       "    </tr>\n",
       "    <tr>\n",
       "      <th>2</th>\n",
       "      <td>OAS31129</td>\n",
       "      <td>female</td>\n",
       "      <td>20</td>\n",
       "      <td>68.07666</td>\n",
       "      <td>1.0</td>\n",
       "      <td>1.0</td>\n",
       "      <td>1.0</td>\n",
       "      <td>1.0</td>\n",
       "      <td>1.0</td>\n",
       "      <td>AD Dementia</td>\n",
       "    </tr>\n",
       "    <tr>\n",
       "      <th>3</th>\n",
       "      <td>OAS31129</td>\n",
       "      <td>female</td>\n",
       "      <td>28</td>\n",
       "      <td>68.07666</td>\n",
       "      <td>1.0</td>\n",
       "      <td>1.0</td>\n",
       "      <td>1.0</td>\n",
       "      <td>1.0</td>\n",
       "      <td>1.0</td>\n",
       "      <td>AD Dementia</td>\n",
       "    </tr>\n",
       "    <tr>\n",
       "      <th>4</th>\n",
       "      <td>OAS31129</td>\n",
       "      <td>female</td>\n",
       "      <td>29</td>\n",
       "      <td>68.07666</td>\n",
       "      <td>0.5</td>\n",
       "      <td>0.5</td>\n",
       "      <td>0.5</td>\n",
       "      <td>0.5</td>\n",
       "      <td>0.5</td>\n",
       "      <td>AD Dementia</td>\n",
       "    </tr>\n",
       "  </tbody>\n",
       "</table>\n",
       "</div>"
      ],
      "text/plain": [
       "    Subject  Gender  mmse  ageAtEntry    X    Y    P   Az   Al       target\n",
       "0  OAS30124  female    16    79.14579  1.0  1.0  1.0  1.0  1.0  AD Dementia\n",
       "1  OAS30124  female    21    79.14579  0.5  0.5  0.5  0.5  0.5  AD Dementia\n",
       "2  OAS31129  female    20    68.07666  1.0  1.0  1.0  1.0  1.0  AD Dementia\n",
       "3  OAS31129  female    28    68.07666  1.0  1.0  1.0  1.0  1.0  AD Dementia\n",
       "4  OAS31129  female    29    68.07666  0.5  0.5  0.5  0.5  0.5  AD Dementia"
      ]
     },
     "execution_count": 4,
     "metadata": {},
     "output_type": "execute_result"
    }
   ],
   "source": [
    "data.head()"
   ]
  },
  {
   "cell_type": "code",
   "execution_count": 5,
   "metadata": {},
   "outputs": [
    {
     "data": {
      "text/html": [
       "<div>\n",
       "<style scoped>\n",
       "    .dataframe tbody tr th:only-of-type {\n",
       "        vertical-align: middle;\n",
       "    }\n",
       "\n",
       "    .dataframe tbody tr th {\n",
       "        vertical-align: top;\n",
       "    }\n",
       "\n",
       "    .dataframe thead th {\n",
       "        text-align: right;\n",
       "    }\n",
       "</style>\n",
       "<table border=\"1\" class=\"dataframe\">\n",
       "  <thead>\n",
       "    <tr style=\"text-align: right;\">\n",
       "      <th></th>\n",
       "      <th>mmse</th>\n",
       "      <th>ageAtEntry</th>\n",
       "      <th>X</th>\n",
       "      <th>Y</th>\n",
       "      <th>P</th>\n",
       "      <th>Az</th>\n",
       "      <th>Al</th>\n",
       "    </tr>\n",
       "  </thead>\n",
       "  <tbody>\n",
       "    <tr>\n",
       "      <th>count</th>\n",
       "      <td>1200.000000</td>\n",
       "      <td>1200.000000</td>\n",
       "      <td>1200.000000</td>\n",
       "      <td>1200.000000</td>\n",
       "      <td>1200.000000</td>\n",
       "      <td>1200.000000</td>\n",
       "      <td>1200.000000</td>\n",
       "    </tr>\n",
       "    <tr>\n",
       "      <th>mean</th>\n",
       "      <td>25.344167</td>\n",
       "      <td>72.944759</td>\n",
       "      <td>0.696250</td>\n",
       "      <td>0.780417</td>\n",
       "      <td>0.696250</td>\n",
       "      <td>0.780417</td>\n",
       "      <td>0.780417</td>\n",
       "    </tr>\n",
       "    <tr>\n",
       "      <th>std</th>\n",
       "      <td>4.392432</td>\n",
       "      <td>7.703531</td>\n",
       "      <td>0.405378</td>\n",
       "      <td>0.484015</td>\n",
       "      <td>0.405378</td>\n",
       "      <td>0.484015</td>\n",
       "      <td>0.484015</td>\n",
       "    </tr>\n",
       "    <tr>\n",
       "      <th>min</th>\n",
       "      <td>0.000000</td>\n",
       "      <td>47.605750</td>\n",
       "      <td>0.000000</td>\n",
       "      <td>0.000000</td>\n",
       "      <td>0.000000</td>\n",
       "      <td>0.000000</td>\n",
       "      <td>0.000000</td>\n",
       "    </tr>\n",
       "    <tr>\n",
       "      <th>25%</th>\n",
       "      <td>23.000000</td>\n",
       "      <td>67.602329</td>\n",
       "      <td>0.500000</td>\n",
       "      <td>0.500000</td>\n",
       "      <td>0.500000</td>\n",
       "      <td>0.500000</td>\n",
       "      <td>0.500000</td>\n",
       "    </tr>\n",
       "    <tr>\n",
       "      <th>50%</th>\n",
       "      <td>26.000000</td>\n",
       "      <td>73.013010</td>\n",
       "      <td>0.500000</td>\n",
       "      <td>0.500000</td>\n",
       "      <td>0.500000</td>\n",
       "      <td>0.500000</td>\n",
       "      <td>0.500000</td>\n",
       "    </tr>\n",
       "    <tr>\n",
       "      <th>75%</th>\n",
       "      <td>29.000000</td>\n",
       "      <td>78.718688</td>\n",
       "      <td>1.000000</td>\n",
       "      <td>1.000000</td>\n",
       "      <td>1.000000</td>\n",
       "      <td>1.000000</td>\n",
       "      <td>1.000000</td>\n",
       "    </tr>\n",
       "    <tr>\n",
       "      <th>max</th>\n",
       "      <td>30.000000</td>\n",
       "      <td>95.567420</td>\n",
       "      <td>3.000000</td>\n",
       "      <td>3.000000</td>\n",
       "      <td>3.000000</td>\n",
       "      <td>3.000000</td>\n",
       "      <td>3.000000</td>\n",
       "    </tr>\n",
       "  </tbody>\n",
       "</table>\n",
       "</div>"
      ],
      "text/plain": [
       "              mmse   ageAtEntry            X            Y            P  \\\n",
       "count  1200.000000  1200.000000  1200.000000  1200.000000  1200.000000   \n",
       "mean     25.344167    72.944759     0.696250     0.780417     0.696250   \n",
       "std       4.392432     7.703531     0.405378     0.484015     0.405378   \n",
       "min       0.000000    47.605750     0.000000     0.000000     0.000000   \n",
       "25%      23.000000    67.602329     0.500000     0.500000     0.500000   \n",
       "50%      26.000000    73.013010     0.500000     0.500000     0.500000   \n",
       "75%      29.000000    78.718688     1.000000     1.000000     1.000000   \n",
       "max      30.000000    95.567420     3.000000     3.000000     3.000000   \n",
       "\n",
       "                Az           Al  \n",
       "count  1200.000000  1200.000000  \n",
       "mean      0.780417     0.780417  \n",
       "std       0.484015     0.484015  \n",
       "min       0.000000     0.000000  \n",
       "25%       0.500000     0.500000  \n",
       "50%       0.500000     0.500000  \n",
       "75%       1.000000     1.000000  \n",
       "max       3.000000     3.000000  "
      ]
     },
     "execution_count": 5,
     "metadata": {},
     "output_type": "execute_result"
    }
   ],
   "source": [
    "data.describe()"
   ]
  },
  {
   "cell_type": "code",
   "execution_count": 6,
   "metadata": {},
   "outputs": [
    {
     "data": {
      "text/plain": [
       "<AxesSubplot:>"
      ]
     },
     "execution_count": 6,
     "metadata": {},
     "output_type": "execute_result"
    },
    {
     "data": {
      "image/png": "[encoded data removed]",
      "text/plain": [
       "<Figure size 720x576 with 2 Axes>"
      ]
     },
     "metadata": {
      "needs_background": "light"
     },
     "output_type": "display_data"
    }
   ],
   "source": [
    "f, ax = plt.subplots(1, figsize=(10,8))\n",
    "sns.heatmap(data.corr(), annot=True, ax=ax)"
   ]
  },
  {
   "cell_type": "code",
   "execution_count": 7,
   "metadata": {
    "execution": {
     "iopub.execute_input": "2022-10-25T13:40:40.667683Z",
     "iopub.status.busy": "2022-10-25T13:40:40.667185Z",
     "iopub.status.idle": "2022-10-25T13:40:40.678762Z",
     "shell.execute_reply": "2022-10-25T13:40:40.677386Z",
     "shell.execute_reply.started": "2022-10-25T13:40:40.667643Z"
    }
   },
   "outputs": [
    {
     "data": {
      "text/plain": [
       "(1200, 10)"
      ]
     },
     "execution_count": 7,
     "metadata": {},
     "output_type": "execute_result"
    }
   ],
   "source": [
    "np.shape(data)"
   ]
  },
  {
   "cell_type": "code",
   "execution_count": 8,
   "metadata": {},
   "outputs": [
    {
     "data": {
      "text/plain": [
       "<AxesSubplot:xlabel='target', ylabel='count'>"
      ]
     },
     "execution_count": 8,
     "metadata": {},
     "output_type": "execute_result"
    },
    {
     "data": {
      "image/png": "[encoded data removed]",
      "text/plain": [
       "<Figure size 432x288 with 1 Axes>"
      ]
     },
     "metadata": {
      "needs_background": "light"
     },
     "output_type": "display_data"
    }
   ],
   "source": [
    "sns.countplot(x=data.target)"
   ]
  },
  {
   "cell_type": "code",
   "execution_count": 9,
   "metadata": {},
   "outputs": [],
   "source": [
    "#set plot features\n",
    "sns.set(style = 'darkgrid', color_codes = True) \n",
    "def setPlt():\n",
    "    f, ax = plt.subplots(figsize = (13,9))\n",
    "    sns.despine(f, left = True, bottom = True)"
   ]
  },
  {
   "cell_type": "code",
   "execution_count": 10,
   "metadata": {},
   "outputs": [
    {
     "data": {
      "image/png": "[encoded data removed]",
      "text/plain": [
       "<Figure size 936x648 with 1 Axes>"
      ]
     },
     "metadata": {},
     "output_type": "display_data"
    }
   ],
   "source": [
    "#create plot, a histogram of cost of living index\n",
    "setPlt()\n",
    "hist = sns.distplot(data['mmse'])"
   ]
  },
  {
   "cell_type": "code",
   "execution_count": 11,
   "metadata": {},
   "outputs": [],
   "source": [
    "data['ageAtEntry'] = data['ageAtEntry'].astype(int)"
   ]
  },
  {
   "cell_type": "code",
   "execution_count": 12,
   "metadata": {},
   "outputs": [
    {
     "data": {
      "image/png": "[encoded data removed]",
      "text/plain": [
       "<Figure size 936x648 with 1 Axes>"
      ]
     },
     "metadata": {},
     "output_type": "display_data"
    }
   ],
   "source": [
    "setPlt()\n",
    "hist = sns.distplot(data['ageAtEntry'])\n"
   ]
  },
  {
   "cell_type": "code",
   "execution_count": 13,
   "metadata": {},
   "outputs": [
    {
     "name": "stdout",
     "output_type": "stream",
     "text": [
      "<class 'pandas.core.frame.DataFrame'>\n",
      "RangeIndex: 1200 entries, 0 to 1199\n",
      "Data columns (total 10 columns):\n",
      " #   Column      Non-Null Count  Dtype  \n",
      "---  ------      --------------  -----  \n",
      " 0   Subject     1200 non-null   object \n",
      " 1   Gender      1200 non-null   object \n",
      " 2   mmse        1200 non-null   int64  \n",
      " 3   ageAtEntry  1200 non-null   int32  \n",
      " 4   X           1200 non-null   float64\n",
      " 5   Y           1200 non-null   float64\n",
      " 6   P           1200 non-null   float64\n",
      " 7   Az          1200 non-null   float64\n",
      " 8   Al          1200 non-null   float64\n",
      " 9   target      1200 non-null   object \n",
      "dtypes: float64(5), int32(1), int64(1), object(3)\n",
      "memory usage: 89.2+ KB\n"
     ]
    }
   ],
   "source": [
    "data.info()"
   ]
  },
  {
   "cell_type": "code",
   "execution_count": 14,
   "metadata": {},
   "outputs": [
    {
     "data": {
      "text/plain": [
       "(1200, 10)"
      ]
     },
     "execution_count": 14,
     "metadata": {},
     "output_type": "execute_result"
    }
   ],
   "source": [
    "data.shape"
   ]
  },
  {
   "cell_type": "code",
   "execution_count": 15,
   "metadata": {},
   "outputs": [
    {
     "data": {
      "text/plain": [
       "array([0, 2, 1])"
      ]
     },
     "execution_count": 15,
     "metadata": {},
     "output_type": "execute_result"
    }
   ],
   "source": [
    "from sklearn import preprocessing\n",
    "  \n",
    "# label_encoder object knows how to understand word labels.\n",
    "label_encoder = preprocessing.LabelEncoder()\n",
    "  \n",
    "# Encode labels in column 'species'.\n",
    "data['Gender']= label_encoder.fit_transform(data['Gender'])\n",
    "data['target']= label_encoder.fit_transform(data['target'])\n",
    "\n",
    "data['Gender'].unique()\n",
    "data['target'].unique()"
   ]
  },
  {
   "cell_type": "markdown",
   "metadata": {},
   "source": [
    "# Feature Selection"
   ]
  },
  {
   "cell_type": "code",
   "execution_count": 16,
   "metadata": {
    "execution": {
     "iopub.execute_input": "2022-10-25T13:40:41.238365Z",
     "iopub.status.busy": "2022-10-25T13:40:41.237348Z",
     "iopub.status.idle": "2022-10-25T13:40:41.274563Z",
     "shell.execute_reply": "2022-10-25T13:40:41.272884Z",
     "shell.execute_reply.started": "2022-10-25T13:40:41.238329Z"
    }
   },
   "outputs": [],
   "source": [
    "X = data.iloc[:, 1:9]\n",
    "y = data.iloc[:,9]"
   ]
  },
  {
   "cell_type": "code",
   "execution_count": 17,
   "metadata": {},
   "outputs": [
    {
     "data": {
      "text/html": [
       "<div>\n",
       "<style scoped>\n",
       "    .dataframe tbody tr th:only-of-type {\n",
       "        vertical-align: middle;\n",
       "    }\n",
       "\n",
       "    .dataframe tbody tr th {\n",
       "        vertical-align: top;\n",
       "    }\n",
       "\n",
       "    .dataframe thead th {\n",
       "        text-align: right;\n",
       "    }\n",
       "</style>\n",
       "<table border=\"1\" class=\"dataframe\">\n",
       "  <thead>\n",
       "    <tr style=\"text-align: right;\">\n",
       "      <th></th>\n",
       "      <th>Gender</th>\n",
       "      <th>mmse</th>\n",
       "      <th>ageAtEntry</th>\n",
       "      <th>X</th>\n",
       "      <th>Y</th>\n",
       "      <th>P</th>\n",
       "      <th>Az</th>\n",
       "      <th>Al</th>\n",
       "    </tr>\n",
       "  </thead>\n",
       "  <tbody>\n",
       "    <tr>\n",
       "      <th>0</th>\n",
       "      <td>0</td>\n",
       "      <td>16</td>\n",
       "      <td>79</td>\n",
       "      <td>1.0</td>\n",
       "      <td>1.0</td>\n",
       "      <td>1.0</td>\n",
       "      <td>1.0</td>\n",
       "      <td>1.0</td>\n",
       "    </tr>\n",
       "    <tr>\n",
       "      <th>1</th>\n",
       "      <td>0</td>\n",
       "      <td>21</td>\n",
       "      <td>79</td>\n",
       "      <td>0.5</td>\n",
       "      <td>0.5</td>\n",
       "      <td>0.5</td>\n",
       "      <td>0.5</td>\n",
       "      <td>0.5</td>\n",
       "    </tr>\n",
       "    <tr>\n",
       "      <th>2</th>\n",
       "      <td>0</td>\n",
       "      <td>20</td>\n",
       "      <td>68</td>\n",
       "      <td>1.0</td>\n",
       "      <td>1.0</td>\n",
       "      <td>1.0</td>\n",
       "      <td>1.0</td>\n",
       "      <td>1.0</td>\n",
       "    </tr>\n",
       "    <tr>\n",
       "      <th>3</th>\n",
       "      <td>0</td>\n",
       "      <td>28</td>\n",
       "      <td>68</td>\n",
       "      <td>1.0</td>\n",
       "      <td>1.0</td>\n",
       "      <td>1.0</td>\n",
       "      <td>1.0</td>\n",
       "      <td>1.0</td>\n",
       "    </tr>\n",
       "    <tr>\n",
       "      <th>4</th>\n",
       "      <td>0</td>\n",
       "      <td>29</td>\n",
       "      <td>68</td>\n",
       "      <td>0.5</td>\n",
       "      <td>0.5</td>\n",
       "      <td>0.5</td>\n",
       "      <td>0.5</td>\n",
       "      <td>0.5</td>\n",
       "    </tr>\n",
       "    <tr>\n",
       "      <th>...</th>\n",
       "      <td>...</td>\n",
       "      <td>...</td>\n",
       "      <td>...</td>\n",
       "      <td>...</td>\n",
       "      <td>...</td>\n",
       "      <td>...</td>\n",
       "      <td>...</td>\n",
       "      <td>...</td>\n",
       "    </tr>\n",
       "    <tr>\n",
       "      <th>1195</th>\n",
       "      <td>1</td>\n",
       "      <td>22</td>\n",
       "      <td>68</td>\n",
       "      <td>1.0</td>\n",
       "      <td>1.0</td>\n",
       "      <td>1.0</td>\n",
       "      <td>1.0</td>\n",
       "      <td>1.0</td>\n",
       "    </tr>\n",
       "    <tr>\n",
       "      <th>1196</th>\n",
       "      <td>1</td>\n",
       "      <td>16</td>\n",
       "      <td>68</td>\n",
       "      <td>1.0</td>\n",
       "      <td>1.0</td>\n",
       "      <td>1.0</td>\n",
       "      <td>1.0</td>\n",
       "      <td>1.0</td>\n",
       "    </tr>\n",
       "    <tr>\n",
       "      <th>1197</th>\n",
       "      <td>1</td>\n",
       "      <td>28</td>\n",
       "      <td>67</td>\n",
       "      <td>0.5</td>\n",
       "      <td>0.5</td>\n",
       "      <td>0.5</td>\n",
       "      <td>0.5</td>\n",
       "      <td>0.5</td>\n",
       "    </tr>\n",
       "    <tr>\n",
       "      <th>1198</th>\n",
       "      <td>0</td>\n",
       "      <td>17</td>\n",
       "      <td>80</td>\n",
       "      <td>1.0</td>\n",
       "      <td>1.0</td>\n",
       "      <td>1.0</td>\n",
       "      <td>1.0</td>\n",
       "      <td>1.0</td>\n",
       "    </tr>\n",
       "    <tr>\n",
       "      <th>1199</th>\n",
       "      <td>1</td>\n",
       "      <td>26</td>\n",
       "      <td>76</td>\n",
       "      <td>0.5</td>\n",
       "      <td>1.0</td>\n",
       "      <td>0.5</td>\n",
       "      <td>1.0</td>\n",
       "      <td>1.0</td>\n",
       "    </tr>\n",
       "  </tbody>\n",
       "</table>\n",
       "<p>1200 rows × 8 columns</p>\n",
       "</div>"
      ],
      "text/plain": [
       "      Gender  mmse  ageAtEntry    X    Y    P   Az   Al\n",
       "0          0    16          79  1.0  1.0  1.0  1.0  1.0\n",
       "1          0    21          79  0.5  0.5  0.5  0.5  0.5\n",
       "2          0    20          68  1.0  1.0  1.0  1.0  1.0\n",
       "3          0    28          68  1.0  1.0  1.0  1.0  1.0\n",
       "4          0    29          68  0.5  0.5  0.5  0.5  0.5\n",
       "...      ...   ...         ...  ...  ...  ...  ...  ...\n",
       "1195       1    22          68  1.0  1.0  1.0  1.0  1.0\n",
       "1196       1    16          68  1.0  1.0  1.0  1.0  1.0\n",
       "1197       1    28          67  0.5  0.5  0.5  0.5  0.5\n",
       "1198       0    17          80  1.0  1.0  1.0  1.0  1.0\n",
       "1199       1    26          76  0.5  1.0  0.5  1.0  1.0\n",
       "\n",
       "[1200 rows x 8 columns]"
      ]
     },
     "execution_count": 17,
     "metadata": {},
     "output_type": "execute_result"
    }
   ],
   "source": [
    "X"
   ]
  },
  {
   "cell_type": "code",
   "execution_count": 18,
   "metadata": {},
   "outputs": [
    {
     "data": {
      "text/plain": [
       "0       0\n",
       "1       0\n",
       "2       0\n",
       "3       0\n",
       "4       0\n",
       "       ..\n",
       "1195    0\n",
       "1196    0\n",
       "1197    0\n",
       "1198    0\n",
       "1199    2\n",
       "Name: target, Length: 1200, dtype: int32"
      ]
     },
     "execution_count": 18,
     "metadata": {},
     "output_type": "execute_result"
    }
   ],
   "source": [
    "y"
   ]
  },
  {
   "cell_type": "code",
   "execution_count": 19,
   "metadata": {},
   "outputs": [],
   "source": [
    "from sklearn.model_selection import cross_val_score\n",
    "from sklearn.metrics import classification_report\n",
    "from sklearn.metrics import confusion_matrix\n",
    "from sklearn.metrics import accuracy_score"
   ]
  },
  {
   "cell_type": "markdown",
   "metadata": {},
   "source": [
    "# Voting Classifier"
   ]
  },
  {
   "cell_type": "code",
   "execution_count": 20,
   "metadata": {},
   "outputs": [
    {
     "name": "stdout",
     "output_type": "stream",
     "text": [
      "*Confusion Matrix for Voting Classifier: \n",
      "[[772   0  55]\n",
      " [  0  17   0]\n",
      " [ 90   0 266]]\n"
     ]
    }
   ],
   "source": [
    "from sklearn.svm import SVC\n",
    "from sklearn.tree import DecisionTreeClassifier\n",
    "from sklearn.ensemble import RandomForestClassifier, VotingClassifier\n",
    "clf1 = SVC(gamma='auto')\n",
    "clf2 = RandomForestClassifier(n_estimators=5, random_state=1)\n",
    "clf3 = DecisionTreeClassifier()\n",
    "eclf1 = VotingClassifier(estimators=[('lr', clf1), ('rf', clf2), ('dt', clf3)], voting='hard')\n",
    "eclf1.fit(X, y)\n",
    "predictions = eclf1.predict(X)\n",
    "print(\"*Confusion Matrix for Voting Classifier: \")\n",
    "print(confusion_matrix(y, predictions))"
   ]
  },
  {
   "cell_type": "code",
   "execution_count": 21,
   "metadata": {},
   "outputs": [
    {
     "name": "stdout",
     "output_type": "stream",
     "text": [
      "*Accuracy score for Voting:  87.91666666666667 \n",
      "\n"
     ]
    }
   ],
   "source": [
    "val5 = (accuracy_score(y, predictions)*100)\n",
    "print(\"*Accuracy score for Voting: \", val5, \"\\n\")"
   ]
  },
  {
   "cell_type": "code",
   "execution_count": 22,
   "metadata": {},
   "outputs": [
    {
     "name": "stdout",
     "output_type": "stream",
     "text": [
      "100.0\n",
      "100.0\n"
     ]
    }
   ],
   "source": [
    "confusion = confusion_matrix(y, predictions)\n",
    "TP = confusion[0, 0]\n",
    "TN = confusion[1, 1]\n",
    "FP = confusion[0, 1]\n",
    "FN = confusion[1, 0]\n",
    "\n",
    "from sklearn import metrics\n",
    "vot_sensitivity = ((TP / float(FN + TP))) * 100\n",
    "\n",
    "print(vot_sensitivity)\n",
    "vot_specificity = ((TN / (TN + FP))) * 100\n",
    "\n",
    "print(vot_specificity)"
   ]
  },
  {
   "cell_type": "markdown",
   "metadata": {},
   "source": [
    "# Deep Learning"
   ]
  },
  {
   "cell_type": "code",
   "execution_count": 23,
   "metadata": {},
   "outputs": [
    {
     "name": "stderr",
     "output_type": "stream",
     "text": [
      "Using TensorFlow backend.\n"
     ]
    }
   ],
   "source": [
    "import numpy as np\n",
    "import pandas as pd\n",
    "import seaborn as sns\n",
    "import matplotlib.pyplot as plt\n",
    "from sklearn.metrics import accuracy_score, f1_score, precision_score, recall_score, classification_report, confusion_matrix\n",
    "from sklearn.model_selection import cross_val_score, GridSearchCV, RandomizedSearchCV\n",
    "from keras.wrappers.scikit_learn import KerasClassifier\n",
    "from sklearn.model_selection import StratifiedKFold\n",
    "from sklearn.model_selection import train_test_split\n",
    "from sklearn.metrics import f1_score\n",
    "from keras.utils.np_utils import to_categorical\n",
    "from sklearn.utils import class_weight\n",
    "from sklearn.metrics import log_loss\n",
    "from tensorflow.keras import layers\n",
    "from tensorflow.keras.models import Sequential\n",
    "from tensorflow.keras.layers import Dense\n",
    "from tensorflow.keras.models import Model, load_model\n",
    "from tensorflow.keras.utils import to_categorical\n",
    "from tensorflow.keras.layers import Dropout\n",
    "from tensorflow.keras.layers import Flatten\n",
    "from tensorflow.keras.layers import Conv1D\n",
    "from tensorflow.keras.layers import MaxPooling1D"
   ]
  },
  {
   "cell_type": "code",
   "execution_count": 24,
   "metadata": {},
   "outputs": [],
   "source": [
    "from sklearn.preprocessing import Normalizer\n",
    "from tensorflow.keras.layers import Activation, Dense, Dropout, BatchNormalization, Input\n",
    "from keras.models import Model\n",
    "from keras.optimizers import Adam\n",
    "from tensorflow.keras.callbacks import ReduceLROnPlateau, EarlyStopping\n",
    "%matplotlib inline\n",
    "plt.style.use('fivethirtyeight')"
   ]
  },
  {
   "cell_type": "markdown",
   "metadata": {},
   "source": [
    "For CNN"
   ]
  },
  {
   "cell_type": "code",
   "execution_count": 25,
   "metadata": {},
   "outputs": [
    {
     "data": {
      "text/html": [
       "<div>\n",
       "<style scoped>\n",
       "    .dataframe tbody tr th:only-of-type {\n",
       "        vertical-align: middle;\n",
       "    }\n",
       "\n",
       "    .dataframe tbody tr th {\n",
       "        vertical-align: top;\n",
       "    }\n",
       "\n",
       "    .dataframe thead th {\n",
       "        text-align: right;\n",
       "    }\n",
       "</style>\n",
       "<table border=\"1\" class=\"dataframe\">\n",
       "  <thead>\n",
       "    <tr style=\"text-align: right;\">\n",
       "      <th></th>\n",
       "      <th>Gender</th>\n",
       "      <th>mmse</th>\n",
       "      <th>ageAtEntry</th>\n",
       "      <th>X</th>\n",
       "      <th>Y</th>\n",
       "      <th>P</th>\n",
       "      <th>Az</th>\n",
       "      <th>Al</th>\n",
       "    </tr>\n",
       "  </thead>\n",
       "  <tbody>\n",
       "    <tr>\n",
       "      <th>0</th>\n",
       "      <td>0</td>\n",
       "      <td>16</td>\n",
       "      <td>79</td>\n",
       "      <td>1.0</td>\n",
       "      <td>1.0</td>\n",
       "      <td>1.0</td>\n",
       "      <td>1.0</td>\n",
       "      <td>1.0</td>\n",
       "    </tr>\n",
       "    <tr>\n",
       "      <th>1</th>\n",
       "      <td>0</td>\n",
       "      <td>21</td>\n",
       "      <td>79</td>\n",
       "      <td>0.5</td>\n",
       "      <td>0.5</td>\n",
       "      <td>0.5</td>\n",
       "      <td>0.5</td>\n",
       "      <td>0.5</td>\n",
       "    </tr>\n",
       "    <tr>\n",
       "      <th>2</th>\n",
       "      <td>0</td>\n",
       "      <td>20</td>\n",
       "      <td>68</td>\n",
       "      <td>1.0</td>\n",
       "      <td>1.0</td>\n",
       "      <td>1.0</td>\n",
       "      <td>1.0</td>\n",
       "      <td>1.0</td>\n",
       "    </tr>\n",
       "    <tr>\n",
       "      <th>3</th>\n",
       "      <td>0</td>\n",
       "      <td>28</td>\n",
       "      <td>68</td>\n",
       "      <td>1.0</td>\n",
       "      <td>1.0</td>\n",
       "      <td>1.0</td>\n",
       "      <td>1.0</td>\n",
       "      <td>1.0</td>\n",
       "    </tr>\n",
       "    <tr>\n",
       "      <th>4</th>\n",
       "      <td>0</td>\n",
       "      <td>29</td>\n",
       "      <td>68</td>\n",
       "      <td>0.5</td>\n",
       "      <td>0.5</td>\n",
       "      <td>0.5</td>\n",
       "      <td>0.5</td>\n",
       "      <td>0.5</td>\n",
       "    </tr>\n",
       "    <tr>\n",
       "      <th>...</th>\n",
       "      <td>...</td>\n",
       "      <td>...</td>\n",
       "      <td>...</td>\n",
       "      <td>...</td>\n",
       "      <td>...</td>\n",
       "      <td>...</td>\n",
       "      <td>...</td>\n",
       "      <td>...</td>\n",
       "    </tr>\n",
       "    <tr>\n",
       "      <th>1195</th>\n",
       "      <td>1</td>\n",
       "      <td>22</td>\n",
       "      <td>68</td>\n",
       "      <td>1.0</td>\n",
       "      <td>1.0</td>\n",
       "      <td>1.0</td>\n",
       "      <td>1.0</td>\n",
       "      <td>1.0</td>\n",
       "    </tr>\n",
       "    <tr>\n",
       "      <th>1196</th>\n",
       "      <td>1</td>\n",
       "      <td>16</td>\n",
       "      <td>68</td>\n",
       "      <td>1.0</td>\n",
       "      <td>1.0</td>\n",
       "      <td>1.0</td>\n",
       "      <td>1.0</td>\n",
       "      <td>1.0</td>\n",
       "    </tr>\n",
       "    <tr>\n",
       "      <th>1197</th>\n",
       "      <td>1</td>\n",
       "      <td>28</td>\n",
       "      <td>67</td>\n",
       "      <td>0.5</td>\n",
       "      <td>0.5</td>\n",
       "      <td>0.5</td>\n",
       "      <td>0.5</td>\n",
       "      <td>0.5</td>\n",
       "    </tr>\n",
       "    <tr>\n",
       "      <th>1198</th>\n",
       "      <td>0</td>\n",
       "      <td>17</td>\n",
       "      <td>80</td>\n",
       "      <td>1.0</td>\n",
       "      <td>1.0</td>\n",
       "      <td>1.0</td>\n",
       "      <td>1.0</td>\n",
       "      <td>1.0</td>\n",
       "    </tr>\n",
       "    <tr>\n",
       "      <th>1199</th>\n",
       "      <td>1</td>\n",
       "      <td>26</td>\n",
       "      <td>76</td>\n",
       "      <td>0.5</td>\n",
       "      <td>1.0</td>\n",
       "      <td>0.5</td>\n",
       "      <td>1.0</td>\n",
       "      <td>1.0</td>\n",
       "    </tr>\n",
       "  </tbody>\n",
       "</table>\n",
       "<p>1200 rows × 8 columns</p>\n",
       "</div>"
      ],
      "text/plain": [
       "      Gender  mmse  ageAtEntry    X    Y    P   Az   Al\n",
       "0          0    16          79  1.0  1.0  1.0  1.0  1.0\n",
       "1          0    21          79  0.5  0.5  0.5  0.5  0.5\n",
       "2          0    20          68  1.0  1.0  1.0  1.0  1.0\n",
       "3          0    28          68  1.0  1.0  1.0  1.0  1.0\n",
       "4          0    29          68  0.5  0.5  0.5  0.5  0.5\n",
       "...      ...   ...         ...  ...  ...  ...  ...  ...\n",
       "1195       1    22          68  1.0  1.0  1.0  1.0  1.0\n",
       "1196       1    16          68  1.0  1.0  1.0  1.0  1.0\n",
       "1197       1    28          67  0.5  0.5  0.5  0.5  0.5\n",
       "1198       0    17          80  1.0  1.0  1.0  1.0  1.0\n",
       "1199       1    26          76  0.5  1.0  0.5  1.0  1.0\n",
       "\n",
       "[1200 rows x 8 columns]"
      ]
     },
     "execution_count": 25,
     "metadata": {},
     "output_type": "execute_result"
    }
   ],
   "source": [
    "X"
   ]
  },
  {
   "cell_type": "code",
   "execution_count": 26,
   "metadata": {},
   "outputs": [
    {
     "data": {
      "text/plain": [
       "0       0\n",
       "1       0\n",
       "2       0\n",
       "3       0\n",
       "4       0\n",
       "       ..\n",
       "1195    0\n",
       "1196    0\n",
       "1197    0\n",
       "1198    0\n",
       "1199    2\n",
       "Name: target, Length: 1200, dtype: int32"
      ]
     },
     "execution_count": 26,
     "metadata": {},
     "output_type": "execute_result"
    }
   ],
   "source": [
    "y"
   ]
  },
  {
   "cell_type": "code",
   "execution_count": 27,
   "metadata": {},
   "outputs": [],
   "source": [
    "from sklearn.model_selection import train_test_split\n",
    "\n",
    "X_train, X_test, y_train, y_test = train_test_split(X, y, random_state=1)"
   ]
  },
  {
   "cell_type": "code",
   "execution_count": 28,
   "metadata": {},
   "outputs": [],
   "source": [
    "X_train = X_train.values\n",
    "X_test = X_test.values\n",
    "X_train = X_train.reshape(-1, X_train.shape[1],1)\n",
    "X_test = X_test.reshape(-1, X_test.shape[1],1)"
   ]
  },
  {
   "cell_type": "code",
   "execution_count": 29,
   "metadata": {},
   "outputs": [],
   "source": [
    "Y_train=to_categorical(y_train)\n",
    "Y_test=to_categorical(y_test)"
   ]
  },
  {
   "cell_type": "markdown",
   "metadata": {},
   "source": [
    "# CNN"
   ]
  },
  {
   "cell_type": "code",
   "execution_count": 30,
   "metadata": {},
   "outputs": [
    {
     "name": "stdout",
     "output_type": "stream",
     "text": [
      "Model: \"sequential\"\n",
      "_________________________________________________________________\n",
      "Layer (type)                 Output Shape              Param #   \n",
      "=================================================================\n",
      "conv1d (Conv1D)              (None, 7, 128)            384       \n",
      "_________________________________________________________________\n",
      "max_pooling1d (MaxPooling1D) (None, 3, 128)            0         \n",
      "_________________________________________________________________\n",
      "dropout (Dropout)            (None, 3, 128)            0         \n",
      "_________________________________________________________________\n",
      "flatten (Flatten)            (None, 384)               0         \n",
      "_________________________________________________________________\n",
      "dense (Dense)                (None, 64)                24640     \n",
      "_________________________________________________________________\n",
      "dense_1 (Dense)              (None, 32)                2080      \n",
      "_________________________________________________________________\n",
      "dense_2 (Dense)              (None, 3)                 99        \n",
      "=================================================================\n",
      "Total params: 27,203\n",
      "Trainable params: 27,203\n",
      "Non-trainable params: 0\n",
      "_________________________________________________________________\n"
     ]
    }
   ],
   "source": [
    "verbose, epoch, batch_size = 1, 100, 32\n",
    "activationFunction='relu'\n",
    "\n",
    "def getModel():\n",
    "    \n",
    "    cnnmodel = Sequential()\n",
    "    #cnnmodel.add(Conv1D(filters=256, kernel_size=2, activation='relu'))\n",
    "    #cnnmodel.add(MaxPooling1D(pool_size=2))\n",
    "    cnnmodel.add(Conv1D(filters=128, kernel_size=2, activation='relu',input_shape=(X_train.shape[1],X_train.shape[2])))\n",
    "    cnnmodel.add(MaxPooling1D(pool_size=2))\n",
    "    cnnmodel.add(Dropout(rate=0.2))\n",
    "    cnnmodel.add(Flatten())\n",
    "    cnnmodel.add(Dense(64, activation='relu'))\n",
    "    cnnmodel.add(Dense(32, activation='relu'))\n",
    "    cnnmodel.add(Dense(3, activation='softmax'))\n",
    "    cnnmodel.compile(optimizer='adam', loss='categorical_crossentropy',metrics=['accuracy'])\n",
    "    cnnmodel.summary()\n",
    "    return cnnmodel\n",
    "\n",
    "cnnmodel = getModel()"
   ]
  },
  {
   "cell_type": "code",
   "execution_count": 31,
   "metadata": {},
   "outputs": [
    {
     "name": "stdout",
     "output_type": "stream",
     "text": [
      "Train on 720 samples, validate on 180 samples\n",
      "Epoch 1/20\n",
      " 64/720 [=>............................] - ETA: 9s - loss: 1.3282 - accuracy: 0.5000 - val_loss: 0.0000e+00 - val_accuracy: 0.0000e+00Epoch 2/20\n",
      " 32/720 [>.............................] - ETA: 0s - loss: 1.2180 - accuracy: 0.7188Epoch 3/20\n",
      " 32/720 [>.............................] - ETA: 0s - loss: 0.6806 - accuracy: 0.7500Epoch 4/20\n",
      " 32/720 [>.............................] - ETA: 0s - loss: 0.9610 - accuracy: 0.5938Epoch 5/20\n",
      " 32/720 [>.............................] - ETA: 0s - loss: 0.8191 - accuracy: 0.5938Epoch 6/20\n",
      " 32/720 [>.............................] - ETA: 0s - loss: 1.0663 - accuracy: 0.5312Epoch 7/20\n",
      " 32/720 [>.............................] - ETA: 0s - loss: 0.6621 - accuracy: 0.6250Epoch 8/20\n",
      " 32/720 [>.............................] - ETA: 0s - loss: 0.7035 - accuracy: 0.5312Epoch 9/20\n",
      " 32/720 [>.............................] - ETA: 0s - loss: 0.7352 - accuracy: 0.6250Epoch 10/20\n",
      " 32/720 [>.............................] - ETA: 0s - loss: 0.5265 - accuracy: 0.7812Epoch 11/20\n",
      " 32/720 [>.............................] - ETA: 0s - loss: 0.6116 - accuracy: 0.7500Epoch 12/20\n",
      " 16/720 [..............................] - ETA: 0s - loss: 0.9248 - accuracy: 0.6875Epoch 13/20\n",
      " 32/720 [>.............................] - ETA: 0s - loss: 0.6967 - accuracy: 0.6562Epoch 14/20\n",
      " 32/720 [>.............................] - ETA: 0s - loss: 0.6109 - accuracy: 0.7500Epoch 15/20\n",
      " 32/720 [>.............................] - ETA: 0s - loss: 0.9145 - accuracy: 0.5000Epoch 16/20\n",
      " 32/720 [>.............................] - ETA: 0s - loss: 0.7752 - accuracy: 0.5938Epoch 17/20\n",
      " 32/720 [>.............................] - ETA: 0s - loss: 0.6618 - accuracy: 0.6875Epoch 18/20\n",
      " 32/720 [>.............................] - ETA: 0s - loss: 0.7677 - accuracy: 0.5000Epoch 19/20\n",
      " 32/720 [>.............................] - ETA: 0s - loss: 0.6801 - accuracy: 0.5938Epoch 20/20\n",
      " 32/720 [>.............................] - ETA: 0s - loss: 0.7600 - accuracy: 0.6250"
     ]
    }
   ],
   "source": [
    "modelhistory= cnnmodel.fit(X_train, Y_train, epochs=20,steps_per_epoch=2, verbose=verbose, validation_split=0.2, batch_size = batch_size)"
   ]
  },
  {
   "cell_type": "code",
   "execution_count": 32,
   "metadata": {},
   "outputs": [
    {
     "data": {
      "image/png": "[encoded data removed]",
      "text/plain": [
       "<Figure size 432x288 with 1 Axes>"
      ]
     },
     "metadata": {},
     "output_type": "display_data"
    },
    {
     "data": {
      "image/png": "[encoded data removed]",
      "text/plain": [
       "<Figure size 432x288 with 1 Axes>"
      ]
     },
     "metadata": {},
     "output_type": "display_data"
    }
   ],
   "source": [
    "# Plot training & validation loss values\n",
    "plt.plot(modelhistory.history['loss'])\n",
    "plt.plot(modelhistory.history['val_loss'])\n",
    "plt.title('Model loss')\n",
    "plt.ylabel('Loss')\n",
    "plt.xlabel('Epoch')\n",
    "plt.legend(['Train', 'Validation'], loc='upper left')\n",
    "plt.savefig('loss.png', format='png', dpi=1200)\n",
    "plt.show()\n",
    "\n",
    "\n",
    "# Plot training & validation accuracy values\n",
    "plt.plot(modelhistory.history['accuracy'])\n",
    "plt.plot(modelhistory.history['val_accuracy'])\n",
    "plt.title('Model accuracy')\n",
    "plt.ylabel('Accuracy')\n",
    "plt.xlabel('Epoch')\n",
    "plt.legend(['Train', 'Validation'], loc='upper left')\n",
    "plt.savefig('accuracy.png', format='png', dpi=1200)\n",
    "plt.show()"
   ]
  },
  {
   "cell_type": "code",
   "execution_count": 33,
   "metadata": {},
   "outputs": [
    {
     "name": "stdout",
     "output_type": "stream",
     "text": [
      "\r",
      "300/1 [========================================================================================================================================================================================================================================================================================================================================================================================================================================================================================================================================================================================================================================================================================================================================================================================================================================================================================================================================================================================================================================================================================================================================================================================================================================================================================================================================================================================================================================================================================================================================================================================================================================================================================================================================================================================================================================================================================================================================================================================================================================================================================================================================================================================================================================================================================================================================================================================================================================================================================================================================================================================================================================================================================================================================================================================================================================================================================================================================================================================================================================================================================================================================================================================================================================================================================================================================================================================================================================================================================================================================================================================================================================================================================================================================================================================================================================================================================================================================================================================================================================================================================================================================================================================================================================================================================================================================================================================================================================================================================================================================================================================================================================================================================================================================================================================================================================================================================================================================================================================================================================================================================================================================================================================================================================================================================================================================================================================================================================================================================================================================================================================================================================================================================================================================================================================================================================================================================================================================================================================================================================================================================================================================================================================================================================================================================================================================================================================================================================================================================================================================================================================================================================================================================================================================================================================================================================================================================================================================================================================================================================================================================================================================================================================================================================================================================================================================================================================================================================================================================================================================================================================================================================================================================================================================================================================================================================================================================================================================================================================================================================================================================================================================================================================================================================================================================================================================================================================================================================================================================================================================================================================================================================================================================================================================================================================================================================================================================================================================================================================================================================================================================================================================================================================================================================================================================================================================================================] - 0s 133us/sample\n"
     ]
    },
    {
     "name": "stdout",
     "output_type": "stream",
     "text": [
      "98.13084112149532\n",
      "nan\n"
     ]
    }
   ],
   "source": [
    "cnnpredictions = cnnmodel.predict(X_test, verbose=1)\n",
    "cnn_predict=np.argmax(cnnpredictions,axis=1)\n",
    "cnn_actual_value=np.argmax(Y_test,axis=1)\n",
    "\n",
    "acc_cnn = accuracy_score(cnn_actual_value, cnn_predict) * 100\n",
    "confusion = confusion_matrix(cnn_actual_value, cnn_predict)\n",
    "TP = confusion[0, 0]\n",
    "TN = confusion[1, 1]\n",
    "FP = confusion[0, 1]\n",
    "FN = confusion[1, 0]\n",
    "\n",
    "from sklearn import metrics\n",
    "cnn_sensitivity = ((TP / float(FN + TP))) * 100\n",
    "\n",
    "print(cnn_sensitivity)\n",
    "cnn_specificity = ((TN / (TN + FP))) * 100\n",
    "\n",
    "print(cnn_specificity)"
   ]
  },
  {
   "cell_type": "markdown",
   "metadata": {},
   "source": [
    "# BiLSTM"
   ]
  },
  {
   "cell_type": "code",
   "execution_count": 34,
   "metadata": {},
   "outputs": [],
   "source": [
    "from keras.models import Sequential\n",
    "from keras.layers.core import Dense,Activation,Dropout\n",
    "from keras.layers import LSTM, Bidirectional,SimpleRNN"
   ]
  },
  {
   "cell_type": "code",
   "execution_count": 35,
   "metadata": {},
   "outputs": [
    {
     "name": "stdout",
     "output_type": "stream",
     "text": [
      "Train on 900 samples\n",
      "Epoch 1/10\n",
      "881/900 [============================>.] - ETA: 0s - loss: 0.6598 - accuracy: 0.6788WARNING:tensorflow:Early stopping conditioned on metric `val_loss` which is not available. Available metrics are: loss,accuracy\n",
      "900/900 [==============================] - 10s 11ms/sample - loss: 0.6578 - accuracy: 0.6767\n",
      "Epoch 2/10\n",
      "895/900 [============================>.] - ETA: 0s - loss: 0.4783 - accuracy: 0.7106WARNING:tensorflow:Early stopping conditioned on metric `val_loss` which is not available. Available metrics are: loss,accuracy\n",
      "900/900 [==============================] - 6s 6ms/sample - loss: 0.4799 - accuracy: 0.7067\n",
      "Epoch 3/10\n",
      "893/900 [============================>.] - ETA: 0s - loss: 0.4610 - accuracy: 0.6842WARNING:tensorflow:Early stopping conditioned on metric `val_loss` which is not available. Available metrics are: loss,accuracy\n",
      "900/900 [==============================] - 4s 5ms/sample - loss: 0.4583 - accuracy: 0.6867\n",
      "Epoch 4/10\n",
      "882/900 [============================>.] - ETA: 0s - loss: 0.4508 - accuracy: 0.7166WARNING:tensorflow:Early stopping conditioned on metric `val_loss` which is not available. Available metrics are: loss,accuracy\n",
      "900/900 [==============================] - 6s 7ms/sample - loss: 0.4485 - accuracy: 0.7200\n",
      "Epoch 5/10\n",
      "897/900 [============================>.] - ETA: 0s - loss: 0.4443 - accuracy: 0.7191WARNING:tensorflow:Early stopping conditioned on metric `val_loss` which is not available. Available metrics are: loss,accuracy\n",
      "900/900 [==============================] - 4s 5ms/sample - loss: 0.4444 - accuracy: 0.7189\n",
      "Epoch 6/10\n",
      "894/900 [============================>.] - ETA: 0s - loss: 0.4420 - accuracy: 0.7282WARNING:tensorflow:Early stopping conditioned on metric `val_loss` which is not available. Available metrics are: loss,accuracy\n",
      "900/900 [==============================] - 7s 8ms/sample - loss: 0.4406 - accuracy: 0.7300\n",
      "Epoch 7/10\n",
      "898/900 [============================>.] - ETA: 0s - loss: 0.4408 - accuracy: 0.7127WARNING:tensorflow:Early stopping conditioned on metric `val_loss` which is not available. Available metrics are: loss,accuracy\n",
      "900/900 [==============================] - 5s 6ms/sample - loss: 0.4414 - accuracy: 0.7122\n",
      "Epoch 8/10\n",
      "897/900 [============================>.] - ETA: 0s - loss: 0.4400 - accuracy: 0.7168WARNING:tensorflow:Early stopping conditioned on metric `val_loss` which is not available. Available metrics are: loss,accuracy\n",
      "900/900 [==============================] - 7s 8ms/sample - loss: 0.4407 - accuracy: 0.7156\n",
      "Epoch 9/10\n",
      "895/900 [============================>.] - ETA: 0s - loss: 0.4382 - accuracy: 0.7196WARNING:tensorflow:Early stopping conditioned on metric `val_loss` which is not available. Available metrics are: loss,accuracy\n",
      "900/900 [==============================] - 6s 6ms/sample - loss: 0.4373 - accuracy: 0.7200\n",
      "Epoch 10/10\n",
      "897/900 [============================>.] - ETA: 0s - loss: 0.4359 - accuracy: 0.7146 ETA: 0s - loss: 0.4370 - accuracyWARNING:tensorflow:Early stopping conditioned on metric `val_loss` which is not available. Available metrics are: loss,accuracy\n",
      "900/900 [==============================] - 7s 8ms/sample - loss: 0.4350 - accuracy: 0.7156\n"
     ]
    }
   ],
   "source": [
    "es=EarlyStopping(patience=7)\n",
    "model=Sequential()\n",
    "model.add(Bidirectional(LSTM(13,input_shape=(8,1))))\n",
    "model.add(Dense(units=3))\n",
    "model.add(Activation('sigmoid'))\n",
    "model.compile(loss='categorical_crossentropy',optimizer='Adam',metrics=['accuracy'])\n",
    "history = model.fit(X_train,Y_train,epochs=10,batch_size=1,verbose=1,callbacks=[es])"
   ]
  },
  {
   "cell_type": "code",
   "execution_count": 36,
   "metadata": {},
   "outputs": [
    {
     "data": {
      "image/png": "[encoded data removed]",
      "text/plain": [
       "<Figure size 432x288 with 1 Axes>"
      ]
     },
     "metadata": {},
     "output_type": "display_data"
    },
    {
     "data": {
      "image/png": "[encoded data removed]",
      "text/plain": [
       "<Figure size 432x288 with 1 Axes>"
      ]
     },
     "metadata": {},
     "output_type": "display_data"
    }
   ],
   "source": [
    "# Plot training & validation loss values\n",
    "plt.plot(history.history['loss'])\n",
    "plt.title('Model loss')\n",
    "plt.ylabel('Loss')\n",
    "plt.xlabel('Epoch')\n",
    "plt.legend(['Train', 'Validation'], loc='upper left')\n",
    "plt.savefig('loss.png', format='png', dpi=1200)\n",
    "plt.show()\n",
    "\n",
    "\n",
    "# Plot training & validation accuracy values\n",
    "plt.plot(history.history['accuracy'])\n",
    "plt.title('Model accuracy')\n",
    "plt.ylabel('Accuracy')\n",
    "plt.xlabel('Epoch')\n",
    "plt.legend(['Train', 'Validation'], loc='upper left')\n",
    "plt.savefig('accuracy.png', format='png', dpi=1200)\n",
    "plt.show()"
   ]
  },
  {
   "cell_type": "code",
   "execution_count": 37,
   "metadata": {},
   "outputs": [],
   "source": [
    "bilstm = history.history['accuracy']\n",
    "bilstm = bilstm[9]"
   ]
  },
  {
   "cell_type": "markdown",
   "metadata": {},
   "source": [
    "# RC - RNN"
   ]
  },
  {
   "cell_type": "code",
   "execution_count": 38,
   "metadata": {},
   "outputs": [
    {
     "name": "stdout",
     "output_type": "stream",
     "text": [
      "Train on 900 samples\n",
      "Epoch 1/10\n",
      "899/900 [============================>.] - ETA: 0s - loss: 0.6109 - accuracy: 0.6919WARNING:tensorflow:Early stopping conditioned on metric `val_loss` which is not available. Available metrics are: loss,accuracy\n",
      "900/900 [==============================] - 6s 7ms/sample - loss: 0.6107 - accuracy: 0.6922\n",
      "Epoch 2/10\n",
      "894/900 [============================>.] - ETA: 0s - loss: 0.4830 - accuracy: 0.7047WARNING:tensorflow:Early stopping conditioned on metric `val_loss` which is not available. Available metrics are: loss,accuracy\n",
      "900/900 [==============================] - 4s 4ms/sample - loss: 0.4831 - accuracy: 0.7033\n",
      "Epoch 3/10\n",
      "898/900 [============================>.] - ETA: 0s - loss: 0.4604 - accuracy: 0.7016WARNING:tensorflow:Early stopping conditioned on metric `val_loss` which is not available. Available metrics are: loss,accuracy\n",
      "900/900 [==============================] - 3s 4ms/sample - loss: 0.4595 - accuracy: 0.7022\n",
      "Epoch 4/10\n",
      "886/900 [============================>.] - ETA: 0s - loss: 0.4480 - accuracy: 0.6998WARNING:tensorflow:Early stopping conditioned on metric `val_loss` which is not available. Available metrics are: loss,accuracy\n",
      "900/900 [==============================] - 4s 4ms/sample - loss: 0.4502 - accuracy: 0.7000\n",
      "Epoch 5/10\n",
      "892/900 [============================>.] - ETA: 0s - loss: 0.4476 - accuracy: 0.7018WARNING:tensorflow:Early stopping conditioned on metric `val_loss` which is not available. Available metrics are: loss,accuracy\n",
      "900/900 [==============================] - 5s 6ms/sample - loss: 0.4470 - accuracy: 0.7022\n",
      "Epoch 6/10\n",
      "885/900 [============================>.] - ETA: 0s - loss: 0.4434 - accuracy: 0.6983WARNING:tensorflow:Early stopping conditioned on metric `val_loss` which is not available. Available metrics are: loss,accuracy\n",
      "900/900 [==============================] - 4s 4ms/sample - loss: 0.4443 - accuracy: 0.6967\n",
      "Epoch 7/10\n",
      "895/900 [============================>.] - ETA: 0s - loss: 0.4442 - accuracy: 0.7140WARNING:tensorflow:Early stopping conditioned on metric `val_loss` which is not available. Available metrics are: loss,accuracy\n",
      "900/900 [==============================] - 3s 3ms/sample - loss: 0.4434 - accuracy: 0.7133\n",
      "Epoch 8/10\n",
      "889/900 [============================>.] - ETA: 0s - loss: 0.4391 - accuracy: 0.7064 ETA: 1s - loss: 0.4263 - accu - ETAWARNING:tensorflow:Early stopping conditioned on metric `val_loss` which is not available. Available metrics are: loss,accuracy\n",
      "900/900 [==============================] - 6s 6ms/sample - loss: 0.4408 - accuracy: 0.7044\n",
      "Epoch 9/10\n",
      "884/900 [============================>.] - ETA: 0s - loss: 0.4435 - accuracy: 0.7138WARNING:tensorflow:Early stopping conditioned on metric `val_loss` which is not available. Available metrics are: loss,accuracy\n",
      "900/900 [==============================] - 4s 4ms/sample - loss: 0.4436 - accuracy: 0.7144\n",
      "Epoch 10/10\n",
      "898/900 [============================>.] - ETA: 0s - loss: 0.4392 - accuracy: 0.7138WARNING:tensorflow:Early stopping conditioned on metric `val_loss` which is not available. Available metrics are: loss,accuracy\n",
      "900/900 [==============================] - 3s 4ms/sample - loss: 0.4389 - accuracy: 0.7144\n"
     ]
    }
   ],
   "source": [
    "es=EarlyStopping(patience=7)\n",
    "model=Sequential()\n",
    "model.add(SimpleRNN(13,input_shape=(8,1)))\n",
    "model.add(Dense(units=3))\n",
    "model.add(Activation('sigmoid'))\n",
    "model.compile(loss='categorical_crossentropy',optimizer='Adam',metrics=['accuracy'])\n",
    "history = model.fit(X_train,Y_train,epochs=10,batch_size=1,verbose=1,callbacks=[es])"
   ]
  },
  {
   "cell_type": "code",
   "execution_count": 39,
   "metadata": {},
   "outputs": [
    {
     "data": {
      "image/png": "[encoded data removed]",
      "text/plain": [
       "<Figure size 432x288 with 1 Axes>"
      ]
     },
     "metadata": {},
     "output_type": "display_data"
    },
    {
     "data": {
      "image/png": "[encoded data removed]",
      "text/plain": [
       "<Figure size 432x288 with 1 Axes>"
      ]
     },
     "metadata": {},
     "output_type": "display_data"
    }
   ],
   "source": [
    "# Plot training & validation loss values\n",
    "plt.plot(history.history['loss'])\n",
    "plt.title('Model loss')\n",
    "plt.ylabel('Loss')\n",
    "plt.xlabel('Epoch')\n",
    "plt.legend(['Train', 'Validation'], loc='upper left')\n",
    "plt.savefig('loss.png', format='png', dpi=1200)\n",
    "plt.show()\n",
    "\n",
    "\n",
    "# Plot training & validation accuracy values\n",
    "plt.plot(history.history['accuracy'])\n",
    "plt.title('Model accuracy')\n",
    "plt.ylabel('Accuracy')\n",
    "plt.xlabel('Epoch')\n",
    "plt.legend(['Train', 'Validation'], loc='upper left')\n",
    "plt.savefig('accuracy.png', format='png', dpi=1200)\n",
    "plt.show()"
   ]
  },
  {
   "cell_type": "code",
   "execution_count": 40,
   "metadata": {},
   "outputs": [],
   "source": [
    "rc = history.history['accuracy']\n",
    "rc = rc[9]"
   ]
  },
  {
   "cell_type": "markdown",
   "metadata": {},
   "source": [
    "# Accuracy Comparison"
   ]
  },
  {
   "cell_type": "code",
   "execution_count": 41,
   "metadata": {},
   "outputs": [],
   "source": [
    "score = [val5,acc_cnn,bilstm*100,rc*100]"
   ]
  },
  {
   "cell_type": "code",
   "execution_count": 42,
   "metadata": {},
   "outputs": [
    {
     "name": "stdout",
     "output_type": "stream",
     "text": [
      "[0 1 2 3]\n",
      "[87.91666666666667, 70.0, 71.55555486679077, 71.44444584846497]\n"
     ]
    }
   ],
   "source": [
    "#make variabel for save the result and to show it\n",
    "classifier = ('Voting','CNN','BiLSTM','RC-RNN')\n",
    "y_pos = np.arange(len(classifier))\n",
    "print(y_pos)\n",
    "print(score)"
   ]
  },
  {
   "cell_type": "code",
   "execution_count": 43,
   "metadata": {},
   "outputs": [
    {
     "data": {
      "image/png": "[encoded data removed]",
      "text/plain": [
       "<Figure size 432x288 with 1 Axes>"
      ]
     },
     "metadata": {},
     "output_type": "display_data"
    }
   ],
   "source": [
    "import matplotlib.pyplot as plt2\n",
    "plt2.barh(y_pos, score, align='center', alpha=0.5,color='blue')\n",
    "plt2.yticks(y_pos, classifier)\n",
    "plt2.xlabel('Score')\n",
    "plt2.title('Classification Performance')\n",
    "plt2.show()"
   ]
  },
  {
   "cell_type": "code",
   "execution_count": null,
   "metadata": {},
   "outputs": [],
   "source": []
  }
 ],
 "metadata": {
  "kernelspec": {
   "display_name": "Python 3",
   "language": "python",
   "name": "python3"
  },
  "language_info": {
   "codemirror_mode": {
    "name": "ipython",
    "version": 3
   },
   "file_extension": ".py",
   "mimetype": "text/x-python",
   "name": "python",
   "nbconvert_exporter": "python",
   "pygments_lexer": "ipython3",
   "version": "3.7.4"
  }
 },
 "nbformat": 4,
 "nbformat_minor": 4
}
